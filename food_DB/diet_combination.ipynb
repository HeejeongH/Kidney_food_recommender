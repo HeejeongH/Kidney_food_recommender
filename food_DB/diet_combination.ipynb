{
 "cells": [
  {
   "cell_type": "code",
   "execution_count": 1,
   "metadata": {},
   "outputs": [],
   "source": [
    "import Preprocess as prep\n",
    "from itertools import combinations\n",
    "import concurrent.futures\n",
    "import itertools\n",
    "\n",
    "#food_db = prep.processed_food()\n",
    "#a='p'\n",
    "food_db = prep.general_food()\n",
    "a='d'\n",
    "\n",
    "selected_columns = ['카테고리','식품코드','식품명','영양성분함량기준량', '에너지(kcal)', '탄수화물(g)', '단백질(g)', '지방(g)', '나트륨(mg)', '당류(g)', '칼륨(mg)', '인(mg)']\n",
    "food_db = food_db[selected_columns]\n",
    "food_db = food_db.dropna(subset=['탄수화물(g)', '단백질(g)', '지방(g)', '나트륨(mg)', '당류(g)'])\n",
    "\n",
    "def foods_list(category):\n",
    "    food_list = food_db[food_db['카테고리'] == category][['영양성분함량기준량','식품코드', '식품명']].values.tolist()\n",
    "    return food_list\n",
    "\n",
    "def calculate_diet_nutrition(foods, selected_cols):\n",
    "    diet_nutrition = food_db.loc[food_db['식품코드'].isin(food[1] for food in foods), selected_cols]\n",
    "    nutritions = diet_nutrition.values.tolist() # .fillna(0).sum(axis=0)\n",
    "    return nutritions\n",
    "\n",
    "def process_diet(diet):\n",
    "    nutrition = calculate_diet_nutrition(diet, selected_cols)\n",
    "    return diet, nutrition\n",
    "\n",
    "def generate_diet_combinations(category, num_items):\n",
    "    food_list = foods_list(category)\n",
    "    diet_combinations = list(combinations(food_list, num_items))\n",
    "    return diet_combinations\n",
    "\n",
    "selected_cols = food_db.columns[4:].values "
   ]
  },
  {
   "cell_type": "markdown",
   "metadata": {},
   "source": [
    "# 음식"
   ]
  },
  {
   "cell_type": "markdown",
   "metadata": {},
   "source": [
    "## 간식"
   ]
  },
  {
   "cell_type": "markdown",
   "metadata": {},
   "source": [
    "### 간식"
   ]
  },
  {
   "cell_type": "code",
   "execution_count": 3,
   "metadata": {},
   "outputs": [],
   "source": [
    "resulting_diet, total_nutrition = [], []\n",
    "snack_combinations = generate_diet_combinations('간식', 1)\n",
    "with concurrent.futures.ThreadPoolExecutor() as executor:\n",
    "    results = executor.map(process_diet, snack_combinations)\n",
    "for diet, nutrition in results:\n",
    "    resulting_diet.append(diet)\n",
    "    total_nutrition.append(nutrition)\n",
    "with open(f'processed_DB/snack/snack{a}.txt', 'w') as f:\n",
    "    for diet, nutrition in zip(resulting_diet, total_nutrition):\n",
    "        f.write(f\"Diet: {diet}\\n\")\n",
    "        f.write(f\"{nutrition}\\n\")\n",
    "        f.write(\"\\n\")"
   ]
  },
  {
   "cell_type": "markdown",
   "metadata": {},
   "source": [
    "### 음료"
   ]
  },
  {
   "cell_type": "code",
   "execution_count": 4,
   "metadata": {},
   "outputs": [],
   "source": [
    "resulting_diet, total_nutrition = [], []\n",
    "snack_combinations = generate_diet_combinations('음료', 1)\n",
    "with concurrent.futures.ThreadPoolExecutor() as executor:\n",
    "    results = executor.map(process_diet, snack_combinations)\n",
    "for diet, nutrition in results:\n",
    "    resulting_diet.append(diet)\n",
    "    total_nutrition.append(nutrition)\n",
    "with open(f'processed_DB/beverage/beverage{a}.txt', 'w') as f:\n",
    "    for diet, nutrition in zip(resulting_diet, total_nutrition):\n",
    "        f.write(f\"Diet: {diet}\\n\")\n",
    "        f.write(f\"{nutrition}\\n\")\n",
    "        f.write(\"\\n\")"
   ]
  },
  {
   "cell_type": "markdown",
   "metadata": {},
   "source": [
    "### 간식+음료 / 간식2개"
   ]
  },
  {
   "cell_type": "code",
   "execution_count": 3,
   "metadata": {},
   "outputs": [],
   "source": [
    "# 간식1 + 음료1\n",
    "resulting_diet, total_nutrition = [], []\n",
    "snack_combination1=[]\n",
    "for sn in foods_list('간식'):\n",
    "    for b in foods_list('음료'):\n",
    "        snack_diet1 = (sn,b)\n",
    "        snack_combination1.append(snack_diet1)\n",
    "chunks = [snack_combination1[i:i+20000] for i in range(0, len(snack_combination1), 20000)]\n",
    "\n",
    "# 각 chunk에 대한 처리 및 저장\n",
    "for n, chunk in enumerate(chunks):\n",
    "    resulting_diet = []\n",
    "    total_nutrition = []\n",
    "\n",
    "    with concurrent.futures.ThreadPoolExecutor() as executor:\n",
    "        results = executor.map(process_diet, chunk)\n",
    "\n",
    "    for diet, nutrition in results:\n",
    "        resulting_diet.append(diet)\n",
    "        total_nutrition.append(nutrition)\n",
    "\n",
    "    with open(f'processed_DB/snack_combi/snack_combi{a}1.txt', 'w') as f:\n",
    "        for diet, nutrition in zip(resulting_diet, total_nutrition):\n",
    "            f.write(f\"Diet: {diet}\\n\")\n",
    "            f.write(f\"{nutrition}\\n\")\n",
    "            f.write(\"\\n\")"
   ]
  },
  {
   "cell_type": "code",
   "execution_count": 4,
   "metadata": {},
   "outputs": [],
   "source": [
    "# 간식2\n",
    "resulting_diet, total_nutrition = [], []\n",
    "snack_combinations = generate_diet_combinations('간식', 2)\n",
    "with concurrent.futures.ThreadPoolExecutor() as executor:\n",
    "    results = executor.map(process_diet, snack_combinations)\n",
    "for diet, nutrition in results:\n",
    "    resulting_diet.append(diet)\n",
    "    total_nutrition.append(nutrition)\n",
    "with open(f'processed_DB/snack_combi/snack_combi{a}2.txt', 'w') as f:\n",
    "    for diet, nutrition in zip(resulting_diet, total_nutrition):\n",
    "        f.write(f\"Diet: {diet}\\n\")\n",
    "        f.write(f\"{nutrition}\\n\")\n",
    "        f.write(\"\\n\")"
   ]
  },
  {
   "cell_type": "markdown",
   "metadata": {},
   "source": [
    "## 식사"
   ]
  },
  {
   "cell_type": "markdown",
   "metadata": {},
   "source": [
    "### 식사 조합 (diet)"
   ]
  },
  {
   "cell_type": "code",
   "execution_count": 2,
   "metadata": {},
   "outputs": [
    {
     "name": "stdout",
     "output_type": "stream",
     "text": [
      "1\n",
      "23\n",
      "55\n",
      "80\n",
      "10\n",
      "52\n"
     ]
    }
   ],
   "source": [
    "print(len(foods_list('밥')))\n",
    "print(len(foods_list('국&찌개')))\n",
    "print(len(foods_list('주반찬')))\n",
    "print(len(foods_list('부수반찬')))\n",
    "print(len(foods_list('김치')))\n",
    "print(len(foods_list('주식')))"
   ]
  },
  {
   "cell_type": "code",
   "execution_count": 3,
   "metadata": {},
   "outputs": [
    {
     "name": "stdout",
     "output_type": "stream",
     "text": [
      "1012000\n"
     ]
    }
   ],
   "source": [
    "# 밥1+주반찬1+부수반찬1+김치+국&찌개1\n",
    "resulting_diet, total_nutrition = [], []\n",
    "main_combination=[]\n",
    "for r in foods_list('밥'):\n",
    "    for sp in foods_list('국&찌개'):\n",
    "        for sd1 in foods_list('주반찬'):\n",
    "            for sd2 in foods_list('부수반찬'):    \n",
    "                for sd3 in foods_list('김치'):\n",
    "                    main_diet = (r, sd1, sd2, sd3, sp) # \n",
    "                    main_combination.append(main_diet)\n",
    "\n",
    "print(len(main_combination))\n",
    "\n",
    "chunks = [main_combination[i:i+20000] for i in range(0, len(main_combination), 20000)]\n",
    "\n",
    "for n, chunk in enumerate(chunks):\n",
    "    resulting_diet = []\n",
    "    total_nutrition = []\n",
    "\n",
    "    with concurrent.futures.ThreadPoolExecutor() as executor:\n",
    "        results = executor.map(process_diet, chunk)\n",
    "\n",
    "    for diet, nutrition in results:\n",
    "        resulting_diet.append(diet)\n",
    "        total_nutrition.append(nutrition)\n",
    "\n",
    "    with open(f'processed_DB/diet/diet{a}1_{n}.txt', 'w') as f:\n",
    "        for diet, nutrition in zip(resulting_diet, total_nutrition):\n",
    "            f.write(f\"Diet: {diet}\\n\")\n",
    "            f.write(f\"{nutrition}\\n\")\n",
    "            f.write(\"\\n\")"
   ]
  },
  {
   "cell_type": "code",
   "execution_count": 4,
   "metadata": {},
   "outputs": [
    {
     "name": "stdout",
     "output_type": "stream",
     "text": [
      "37793600\n"
     ]
    }
   ],
   "source": [
    "# 주식1+부수반찬2+김치+국&찌개1\n",
    "side_dish_combinations2 = generate_diet_combinations('부수반찬', 2)\n",
    "resulting_diet, total_nutrition = [], []\n",
    "main_combination=[]\n",
    "for r in foods_list('주식'):\n",
    "    for sp in foods_list('국&찌개'):\n",
    "        for (sd1,sd2) in side_dish_combinations2:\n",
    "            for sd3 in foods_list('김치'):\n",
    "                main_diet = (r, sd1, sd2, sd3, sp) # \n",
    "                main_combination.append(main_diet)\n",
    "\n",
    "print(len(main_combination))\n",
    "\n",
    "chunks = [main_combination[i:i+20000] for i in range(0, len(main_combination), 20000)]\n",
    "\n",
    "for n, chunk in enumerate(chunks):\n",
    "    resulting_diet = []\n",
    "    total_nutrition = []\n",
    "\n",
    "    with concurrent.futures.ThreadPoolExecutor() as executor:\n",
    "        results = executor.map(process_diet, chunk)\n",
    "\n",
    "    for diet, nutrition in results:\n",
    "        resulting_diet.append(diet)\n",
    "        total_nutrition.append(nutrition)\n",
    "\n",
    "    with open(f'processed_DB/diet/diet{a}2_{n}.txt', 'w') as f:\n",
    "        for diet, nutrition in zip(resulting_diet, total_nutrition):\n",
    "            f.write(f\"Diet: {diet}\\n\")\n",
    "            f.write(f\"{nutrition}\\n\")\n",
    "            f.write(\"\\n\")"
   ]
  },
  {
   "cell_type": "markdown",
   "metadata": {},
   "source": [
    "### 한그릇 식사 (one)"
   ]
  },
  {
   "cell_type": "code",
   "execution_count": null,
   "metadata": {},
   "outputs": [],
   "source": [
    "# 주식\n",
    "resulting_diet, total_nutrition = [], []\n",
    "main_combinations = generate_diet_combinations('주식', 1)\n",
    "with concurrent.futures.ThreadPoolExecutor() as executor:\n",
    "    results = executor.map(process_diet, main_combinations)\n",
    "for diet, nutrition in results:\n",
    "    resulting_diet.append(diet)\n",
    "    total_nutrition.append(nutrition)\n",
    "with open(f'processed_DB/one/one{a}1.txt', 'w') as f:\n",
    "    for diet, nutrition in zip(resulting_diet, total_nutrition):\n",
    "        f.write(f\"Diet: {diet}\\n\")\n",
    "        f.write(f\"{nutrition}\\n\")\n",
    "        f.write(\"\\n\")"
   ]
  },
  {
   "cell_type": "markdown",
   "metadata": {},
   "source": [
    "### 주반찬 (main)"
   ]
  },
  {
   "cell_type": "code",
   "execution_count": 2,
   "metadata": {},
   "outputs": [],
   "source": [
    "# 주반찬\n",
    "resulting_diet, total_nutrition = [], []\n",
    "diet_combination=[]\n",
    "for sd1 in food_db[food_db['카테고리'] == '주반찬'][['영양성분함량기준량','식품코드', '식품명']].values.tolist():\n",
    "    r = list(itertools.chain(*food_db[food_db['식품명']=='차조밥'][['영양성분함량기준량','식품코드', '식품명']].values.tolist()))\n",
    "    sd2 = list(itertools.chain(*food_db[food_db['식품명']=='겉절이_배추'][['영양성분함량기준량','식품코드', '식품명']].values.tolist()))\n",
    "    diet = (sd1, r, sd2,)\n",
    "    diet_combination.append(diet)\n",
    "with concurrent.futures.ThreadPoolExecutor() as executor:\n",
    "    results = executor.map(process_diet, diet_combination)\n",
    "for diet, nutrition in results:\n",
    "    resulting_diet.append(diet)\n",
    "    total_nutrition.append(nutrition)\n",
    "with open(f'processed_DB/main/main{a}.txt', 'w') as f:\n",
    "    for diet, nutrition in zip(resulting_diet, total_nutrition):\n",
    "        f.write(f\"Diet: {diet}\\n\")\n",
    "        f.write(f\"{nutrition}\\n\")\n",
    "        f.write(\"\\n\")"
   ]
  },
  {
   "cell_type": "markdown",
   "metadata": {},
   "source": [
    "# 가공식품 조합"
   ]
  },
  {
   "cell_type": "markdown",
   "metadata": {},
   "source": [
    "## main"
   ]
  },
  {
   "cell_type": "code",
   "execution_count": 2,
   "metadata": {},
   "outputs": [],
   "source": [
    "# 일품1\n",
    "resulting_diet, total_nutrition = [], []\n",
    "main_combinations = generate_diet_combinations('일품', 1)\n",
    "with concurrent.futures.ThreadPoolExecutor() as executor:\n",
    "    results = executor.map(process_diet, main_combinations)\n",
    "for diet, nutrition in results:\n",
    "    resulting_diet.append(diet)\n",
    "    total_nutrition.append(nutrition)\n",
    "with open(f'main_combination/main{a}1.txt', 'w') as f:\n",
    "    for diet, nutrition in zip(resulting_diet, total_nutrition):\n",
    "        f.write(f\"Diet: {diet}\\n\")\n",
    "        f.write(f\"{nutrition}\\n\")\n",
    "        f.write(\"\\n\")"
   ]
  }
 ],
 "metadata": {
  "kernelspec": {
   "display_name": "base",
   "language": "python",
   "name": "python3"
  },
  "language_info": {
   "codemirror_mode": {
    "name": "ipython",
    "version": 3
   },
   "file_extension": ".py",
   "mimetype": "text/x-python",
   "name": "python",
   "nbconvert_exporter": "python",
   "pygments_lexer": "ipython3",
   "version": "3.9.13"
  },
  "orig_nbformat": 4
 },
 "nbformat": 4,
 "nbformat_minor": 2
}

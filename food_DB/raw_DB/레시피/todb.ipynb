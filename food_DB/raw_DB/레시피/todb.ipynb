{
 "cells": [
  {
   "cell_type": "code",
   "execution_count": 82,
   "metadata": {},
   "outputs": [],
   "source": [
    "import pandas as pd\n",
    "\n",
    "f = open('만성콩팥병레시피북.txt', 'r')\n",
    "recipe_txt = f.read()\n",
    "recipes = recipe_txt.split(\"#\")\n",
    "\n",
    "names = []\n",
    "ingredients = []\n",
    "method = []\n",
    "\n",
    "for recipe in recipes:\n",
    "    try:\n",
    "        name = recipe.split('재 료')[0].replace('\\n','')\n",
    "        try:\n",
    "            a = recipe.split('재 료')[1].replace('\\n','')\n",
    "            ing = a.split('조리법')[0].replace('\\n','')\n",
    "            rec = a.split('조리법')[1].replace('\\n','')\n",
    "\n",
    "            names.append(name)\n",
    "            ingredients.append(ing)\n",
    "            method.append(rec)\n",
    "        except:\n",
    "            names.append('')\n",
    "            ingredients.append('')\n",
    "            method.append('')\n",
    "    except:\n",
    "        names.append('')\n",
    "        ingredients.append('')\n",
    "        method.append('')\n",
    "\n",
    "recipe_data = {'Name': names, 'Ingredients': ingredients, 'Method': method}\n",
    "recipe_df = pd.DataFrame(recipe_data)\n",
    "recipe_df.to_csv('만성콩팥병레시피북.csv',encoding='utf8')"
   ]
  },
  {
   "cell_type": "code",
   "execution_count": 24,
   "metadata": {},
   "outputs": [],
   "source": [
    "import pandas as pd\n",
    "\n",
    "df = pd.read_csv('만성콩팥병레시피북.csv', index_col='Unnamed: 0')[['식품명','재료']]\n",
    "df_expanded = df.assign(재료=df['재료'].str.split(',')).explode('재료').reset_index(drop=True)\n",
    "df_expanded[['분량']] = df_expanded['재료'].str.extract(r'([\\d\\.\\]+[a-zA-Z]+)')\n",
    "df_expanded['재료'] = df_expanded['재료'].str.replace(r'[\\d\\.\\]+[a-zA-Z]+$', '', regex=True).str.strip()\n",
    "df_expanded.to_csv('만성콩팥병레시피북_재료분량.csv',encoding='ANSI')"
   ]
  }
 ],
 "metadata": {
  "kernelspec": {
   "display_name": "base",
   "language": "python",
   "name": "python3"
  },
  "language_info": {
   "codemirror_mode": {
    "name": "ipython",
    "version": 3
   },
   "file_extension": ".py",
   "mimetype": "text/x-python",
   "name": "python",
   "nbconvert_exporter": "python",
   "pygments_lexer": "ipython3",
   "version": "3.9.13"
  }
 },
 "nbformat": 4,
 "nbformat_minor": 2
}
